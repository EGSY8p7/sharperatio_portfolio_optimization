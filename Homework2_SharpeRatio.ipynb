{
  "nbformat": 4,
  "nbformat_minor": 0,
  "metadata": {
    "colab": {
      "name": "Homework2_SharpeRatio",
      "provenance": [],
      "collapsed_sections": []
    },
    "kernelspec": {
      "name": "python3",
      "display_name": "Python 3"
    },
    "language_info": {
      "name": "python"
    }
  },
  "cells": [
    {
      "cell_type": "markdown",
      "metadata": {
        "id": "8dioVZfufI_Q"
      },
      "source": [
        "Homework 2 \"Algorithmic trading\" course.\n",
        "\n",
        "Building portfolio.\n",
        "\n",
        "Student name: Madina Kudaibergenova"
      ]
    },
    {
      "cell_type": "markdown",
      "metadata": {
        "id": "MWExcelBt9P0"
      },
      "source": [
        "\n",
        "\n",
        "---\n",
        "\n"
      ]
    },
    {
      "cell_type": "markdown",
      "metadata": {
        "id": "RVR64wuUtwwX"
      },
      "source": [
        "Method to determine weights: Sharpe ratio\n",
        "\n",
        "Data source: Yahoo finance\n",
        "\n",
        "Monte Carlo simulations to assign random weights to the stocks and calculate volatility\n",
        "\n",
        "Start date is 4th of January 2021, end date is 12th of April 2021\n",
        "\n",
        "Only close price was used"
      ]
    },
    {
      "cell_type": "code",
      "metadata": {
        "id": "plgkGfKUY3_F"
      },
      "source": [
        "# importing necessary libraries\n",
        "import ssl # TLS/SSL wrapper for socket objects\n",
        "from functools import wraps \n",
        "import numpy as np # perform math calculations\n",
        "import pandas as pd # data analysis\n",
        "import pandas_datareader.data as web # collect data from resources \n",
        "import matplotlib.pyplot as plt # draw graphics"
      ],
      "execution_count": 2,
      "outputs": []
    },
    {
      "cell_type": "code",
      "metadata": {
        "id": "iLjGmpQptQn1"
      },
      "source": [
        "# this code is based on https://github.com/mekriti/Portfolio-diversification-using-Sharpe-Ratio"
      ],
      "execution_count": null,
      "outputs": []
    },
    {
      "cell_type": "code",
      "metadata": {
        "id": "aGgkzD0UcXdZ"
      },
      "source": [
        "# setting up connection\n",
        "def sslwrap(func):\n",
        "    @wraps(func)\n",
        "    def bar(*args, **kw):\n",
        "        kw['ssl_version'] = ssl.PROTOCOL_TLSv1\n",
        "        return func(*args, **kw)\n",
        "    return bar\n",
        "ssl.wrap_socket = sslwrap(ssl.wrap_socket)"
      ],
      "execution_count": 83,
      "outputs": []
    },
    {
      "cell_type": "code",
      "metadata": {
        "id": "iHbFSbXQcbFh"
      },
      "source": [
        "# list of stocks in portfolio\n",
        "stocks = ['BHP', 'DE', 'FE', 'GOOG','GS','JNJ', 'KO', 'T', 'WMT', 'XOM']\n",
        "\n",
        "# download daily price data for each of the stocks in the portfolio\n",
        "data = web.DataReader(stocks,data_source='yahoo',start='01/04/2021', end='04/12/2021')['Close']\n",
        " \n",
        "# convert daily stock prices into daily returns\n",
        "returns = data.pct_change()"
      ],
      "execution_count": 113,
      "outputs": []
    },
    {
      "cell_type": "code",
      "metadata": {
        "colab": {
          "base_uri": "https://localhost:8080/",
          "height": 475
        },
        "id": "5k035XW0cPau",
        "outputId": "897b5f74-8b56-4102-a96b-ba9d95d1b6e7"
      },
      "source": [
        "# printing data (I have compared it to the given, and they are equal)\n",
        "data"
      ],
      "execution_count": 86,
      "outputs": [
        {
          "output_type": "execute_result",
          "data": {
            "text/html": [
              "<div>\n",
              "<style scoped>\n",
              "    .dataframe tbody tr th:only-of-type {\n",
              "        vertical-align: middle;\n",
              "    }\n",
              "\n",
              "    .dataframe tbody tr th {\n",
              "        vertical-align: top;\n",
              "    }\n",
              "\n",
              "    .dataframe thead th {\n",
              "        text-align: right;\n",
              "    }\n",
              "</style>\n",
              "<table border=\"1\" class=\"dataframe\">\n",
              "  <thead>\n",
              "    <tr style=\"text-align: right;\">\n",
              "      <th>Symbols</th>\n",
              "      <th>BHP</th>\n",
              "      <th>DE</th>\n",
              "      <th>FE</th>\n",
              "      <th>GOOG</th>\n",
              "      <th>GS</th>\n",
              "      <th>JNJ</th>\n",
              "      <th>KO</th>\n",
              "      <th>T</th>\n",
              "      <th>WMT</th>\n",
              "      <th>XOM</th>\n",
              "    </tr>\n",
              "    <tr>\n",
              "      <th>Date</th>\n",
              "      <th></th>\n",
              "      <th></th>\n",
              "      <th></th>\n",
              "      <th></th>\n",
              "      <th></th>\n",
              "      <th></th>\n",
              "      <th></th>\n",
              "      <th></th>\n",
              "      <th></th>\n",
              "      <th></th>\n",
              "    </tr>\n",
              "  </thead>\n",
              "  <tbody>\n",
              "    <tr>\n",
              "      <th>2021-01-04</th>\n",
              "      <td>67.349998</td>\n",
              "      <td>267.640015</td>\n",
              "      <td>29.510000</td>\n",
              "      <td>1728.239990</td>\n",
              "      <td>265.000000</td>\n",
              "      <td>156.500000</td>\n",
              "      <td>52.759998</td>\n",
              "      <td>29.440001</td>\n",
              "      <td>146.529999</td>\n",
              "      <td>41.500000</td>\n",
              "    </tr>\n",
              "    <tr>\n",
              "      <th>2021-01-05</th>\n",
              "      <td>69.500000</td>\n",
              "      <td>274.279999</td>\n",
              "      <td>29.840000</td>\n",
              "      <td>1740.920044</td>\n",
              "      <td>270.929993</td>\n",
              "      <td>158.339996</td>\n",
              "      <td>52.180000</td>\n",
              "      <td>29.260000</td>\n",
              "      <td>145.750000</td>\n",
              "      <td>43.500000</td>\n",
              "    </tr>\n",
              "    <tr>\n",
              "      <th>2021-01-06</th>\n",
              "      <td>71.709999</td>\n",
              "      <td>290.359985</td>\n",
              "      <td>30.299999</td>\n",
              "      <td>1735.290039</td>\n",
              "      <td>285.549988</td>\n",
              "      <td>159.830002</td>\n",
              "      <td>50.520000</td>\n",
              "      <td>29.830000</td>\n",
              "      <td>146.660004</td>\n",
              "      <td>44.610001</td>\n",
              "    </tr>\n",
              "    <tr>\n",
              "      <th>2021-01-07</th>\n",
              "      <td>73.180000</td>\n",
              "      <td>299.730011</td>\n",
              "      <td>29.629999</td>\n",
              "      <td>1787.250000</td>\n",
              "      <td>291.649994</td>\n",
              "      <td>160.369995</td>\n",
              "      <td>49.959999</td>\n",
              "      <td>29.910000</td>\n",
              "      <td>146.649994</td>\n",
              "      <td>44.959999</td>\n",
              "    </tr>\n",
              "    <tr>\n",
              "      <th>2021-01-08</th>\n",
              "      <td>73.459999</td>\n",
              "      <td>293.910004</td>\n",
              "      <td>29.910000</td>\n",
              "      <td>1807.209961</td>\n",
              "      <td>290.079987</td>\n",
              "      <td>160.039993</td>\n",
              "      <td>51.080002</td>\n",
              "      <td>29.020000</td>\n",
              "      <td>146.630005</td>\n",
              "      <td>45.459999</td>\n",
              "    </tr>\n",
              "    <tr>\n",
              "      <th>...</th>\n",
              "      <td>...</td>\n",
              "      <td>...</td>\n",
              "      <td>...</td>\n",
              "      <td>...</td>\n",
              "      <td>...</td>\n",
              "      <td>...</td>\n",
              "      <td>...</td>\n",
              "      <td>...</td>\n",
              "      <td>...</td>\n",
              "      <td>...</td>\n",
              "    </tr>\n",
              "    <tr>\n",
              "      <th>2021-04-06</th>\n",
              "      <td>69.870003</td>\n",
              "      <td>375.609985</td>\n",
              "      <td>34.799999</td>\n",
              "      <td>2224.750000</td>\n",
              "      <td>327.059998</td>\n",
              "      <td>163.389999</td>\n",
              "      <td>53.189999</td>\n",
              "      <td>30.980000</td>\n",
              "      <td>140.100006</td>\n",
              "      <td>56.340000</td>\n",
              "    </tr>\n",
              "    <tr>\n",
              "      <th>2021-04-07</th>\n",
              "      <td>71.150002</td>\n",
              "      <td>374.790009</td>\n",
              "      <td>35.029999</td>\n",
              "      <td>2249.679932</td>\n",
              "      <td>326.549988</td>\n",
              "      <td>163.610001</td>\n",
              "      <td>53.279999</td>\n",
              "      <td>30.930000</td>\n",
              "      <td>139.800003</td>\n",
              "      <td>56.590000</td>\n",
              "    </tr>\n",
              "    <tr>\n",
              "      <th>2021-04-08</th>\n",
              "      <td>71.230003</td>\n",
              "      <td>374.070007</td>\n",
              "      <td>34.990002</td>\n",
              "      <td>2265.439941</td>\n",
              "      <td>331.140015</td>\n",
              "      <td>162.970001</td>\n",
              "      <td>53.119999</td>\n",
              "      <td>30.000000</td>\n",
              "      <td>139.710007</td>\n",
              "      <td>56.000000</td>\n",
              "    </tr>\n",
              "    <tr>\n",
              "      <th>2021-04-09</th>\n",
              "      <td>70.730003</td>\n",
              "      <td>377.000000</td>\n",
              "      <td>34.770000</td>\n",
              "      <td>2285.879883</td>\n",
              "      <td>330.809998</td>\n",
              "      <td>161.250000</td>\n",
              "      <td>53.180000</td>\n",
              "      <td>30.040001</td>\n",
              "      <td>139.779999</td>\n",
              "      <td>55.869999</td>\n",
              "    </tr>\n",
              "    <tr>\n",
              "      <th>2021-04-12</th>\n",
              "      <td>70.019997</td>\n",
              "      <td>378.260010</td>\n",
              "      <td>34.689999</td>\n",
              "      <td>2254.790039</td>\n",
              "      <td>331.839996</td>\n",
              "      <td>161.639999</td>\n",
              "      <td>53.349998</td>\n",
              "      <td>29.959999</td>\n",
              "      <td>139.800003</td>\n",
              "      <td>55.500000</td>\n",
              "    </tr>\n",
              "  </tbody>\n",
              "</table>\n",
              "<p>68 rows × 10 columns</p>\n",
              "</div>"
            ],
            "text/plain": [
              "Symbols           BHP          DE         FE  ...          T         WMT        XOM\n",
              "Date                                          ...                                  \n",
              "2021-01-04  67.349998  267.640015  29.510000  ...  29.440001  146.529999  41.500000\n",
              "2021-01-05  69.500000  274.279999  29.840000  ...  29.260000  145.750000  43.500000\n",
              "2021-01-06  71.709999  290.359985  30.299999  ...  29.830000  146.660004  44.610001\n",
              "2021-01-07  73.180000  299.730011  29.629999  ...  29.910000  146.649994  44.959999\n",
              "2021-01-08  73.459999  293.910004  29.910000  ...  29.020000  146.630005  45.459999\n",
              "...               ...         ...        ...  ...        ...         ...        ...\n",
              "2021-04-06  69.870003  375.609985  34.799999  ...  30.980000  140.100006  56.340000\n",
              "2021-04-07  71.150002  374.790009  35.029999  ...  30.930000  139.800003  56.590000\n",
              "2021-04-08  71.230003  374.070007  34.990002  ...  30.000000  139.710007  56.000000\n",
              "2021-04-09  70.730003  377.000000  34.770000  ...  30.040001  139.779999  55.869999\n",
              "2021-04-12  70.019997  378.260010  34.689999  ...  29.959999  139.800003  55.500000\n",
              "\n",
              "[68 rows x 10 columns]"
            ]
          },
          "metadata": {
            "tags": []
          },
          "execution_count": 86
        }
      ]
    },
    {
      "cell_type": "code",
      "metadata": {
        "id": "0xfrN7-qcnYf"
      },
      "source": [
        "# calculate mean daily return and covariance of daily returns\n",
        "mean_daily_returns = returns.mean()\n",
        "cov_matrix = returns.cov()\n",
        "\n",
        "# set number of runs of random portfolio weights\n",
        "num_portfolios = 10000\n",
        " \n",
        "# set up array to hold results\n",
        "# Array to hold weight for each stock\n",
        "results = np.zeros((3+len(stocks),num_portfolios))"
      ],
      "execution_count": 123,
      "outputs": []
    },
    {
      "cell_type": "code",
      "metadata": {
        "id": "fMKKg1Uwco_E"
      },
      "source": [
        "for i in range(num_portfolios):\n",
        "    # select random weights for portfolio holdings\n",
        "    weights = np.array(np.random.random(10))\n",
        "    # normalizing weights\n",
        "    weights /= np.sum(weights)\n",
        " \n",
        "    # calculate portfolio return and volatility(which is a standard deviation)\n",
        "    portfolio_return = np.sum(mean_daily_returns * weights) * 252\n",
        "    portfolio_std_dev = np.sqrt(np.dot(weights.T,np.dot(cov_matrix, weights)))*np.sqrt(252)\n",
        " \n",
        "    # store results in results array\n",
        "    results[0,i] = portfolio_return\n",
        "    results[1,i] = portfolio_std_dev\n",
        "    # store Sharpe Ratio (return / volatility) - risk free rate element excluded for simplicity\n",
        "    results[2,i] = ( results[0,i] )/ (results[1,i] )\n",
        "    # iterate through the weight vector and add data to results array\n",
        "    for j in range(0,10):\n",
        "        results[j+3,i] = weights[j]"
      ],
      "execution_count": 124,
      "outputs": []
    },
    {
      "cell_type": "code",
      "metadata": {
        "id": "bpprSwxGcqmc",
        "colab": {
          "base_uri": "https://localhost:8080/",
          "height": 540
        },
        "outputId": "2be24f03-b2f7-4c46-dedb-af1aa71a6831"
      },
      "source": [
        "results_frame = pd.DataFrame(results.T, columns=['ret','stdev','sharpe',stocks[0], stocks[1], \n",
        "                                                 stocks[2], stocks[3], stocks[4], stocks[5], \n",
        "                                                 stocks[6], stocks[7], stocks[8], stocks[9]])\n",
        "# locate position of portfolio with highest Sharpe Ratio\n",
        "maxsp = results_frame.iloc[results_frame[['sharpe']].idxmax()]\n",
        "# locate positon of portfolio with minimum standard deviation\n",
        "minvp = results_frame.iloc[results_frame['stdev'].idxmin()]\n",
        "print(results_frame)\n",
        "# create scatter plot coloured by Sharpe Ratio\n",
        "plt.scatter(results_frame.stdev,results_frame.ret,c = results_frame.sharpe,cmap='RdYlBu')\n",
        "plt.xlabel('Volatility')\n",
        "plt.ylabel('Returns')\n",
        "plt.colorbar()"
      ],
      "execution_count": 125,
      "outputs": [
        {
          "output_type": "stream",
          "text": [
            "           ret     stdev    sharpe  ...         T       WMT       XOM\n",
            "0     0.519692  0.138152  3.761745  ...  0.063268  0.050076  0.151668\n",
            "1     0.563790  0.176284  3.198186  ...  0.241637  0.027683  0.208538\n",
            "2     0.558921  0.155225  3.600723  ...  0.081733  0.102511  0.162133\n",
            "3     0.594803  0.158013  3.764258  ...  0.112395  0.080554  0.122099\n",
            "4     0.251002  0.136331  1.841118  ...  0.122608  0.202173  0.033716\n",
            "...        ...       ...       ...  ...       ...       ...       ...\n",
            "9995  0.735620  0.163710  4.493432  ...  0.033142  0.079468  0.159693\n",
            "9996  0.522326  0.134961  3.870213  ...  0.141034  0.136323  0.015719\n",
            "9997  0.357072  0.145080  2.461215  ...  0.271578  0.117065  0.053772\n",
            "9998  0.562655  0.159647  3.524361  ...  0.036129  0.137689  0.154538\n",
            "9999  0.606220  0.153118  3.959166  ...  0.135434  0.098262  0.100996\n",
            "\n",
            "[10000 rows x 13 columns]\n"
          ],
          "name": "stdout"
        },
        {
          "output_type": "execute_result",
          "data": {
            "text/plain": [
              "<matplotlib.colorbar.Colorbar at 0x7f6fbfa60a50>"
            ]
          },
          "metadata": {
            "tags": []
          },
          "execution_count": 125
        },
        {
          "output_type": "display_data",
          "data": {
            "image/png": "[encoded data removed]",
            "text/plain": [
              "<Figure size 432x288 with 2 Axes>"
            ]
          },
          "metadata": {
            "tags": [],
            "needs_background": "light"
          }
        }
      ]
    },
    {
      "cell_type": "code",
      "metadata": {
        "id": "53lZpUE_x5DP"
      },
      "source": [
        "maxsp_array = pd.DataFrame.to_numpy(maxsp) # converting DataFrame to numpy for convenience"
      ],
      "execution_count": 126,
      "outputs": []
    },
    {
      "cell_type": "code",
      "metadata": {
        "colab": {
          "base_uri": "https://localhost:8080/",
          "height": 101
        },
        "id": "GMDKaTmr03Xq",
        "outputId": "22194a2c-d8cb-42f1-e961-2d2126745583"
      },
      "source": [
        "# print the line that was chosen as a max Sharpe Ratio\n",
        "maxsp"
      ],
      "execution_count": 133,
      "outputs": [
        {
          "output_type": "execute_result",
          "data": {
            "text/html": [
              "<div>\n",
              "<style scoped>\n",
              "    .dataframe tbody tr th:only-of-type {\n",
              "        vertical-align: middle;\n",
              "    }\n",
              "\n",
              "    .dataframe tbody tr th {\n",
              "        vertical-align: top;\n",
              "    }\n",
              "\n",
              "    .dataframe thead th {\n",
              "        text-align: right;\n",
              "    }\n",
              "</style>\n",
              "<table border=\"1\" class=\"dataframe\">\n",
              "  <thead>\n",
              "    <tr style=\"text-align: right;\">\n",
              "      <th></th>\n",
              "      <th>ret</th>\n",
              "      <th>stdev</th>\n",
              "      <th>sharpe</th>\n",
              "      <th>BHP</th>\n",
              "      <th>DE</th>\n",
              "      <th>FE</th>\n",
              "      <th>GOOG</th>\n",
              "      <th>GS</th>\n",
              "      <th>JNJ</th>\n",
              "      <th>KO</th>\n",
              "      <th>T</th>\n",
              "      <th>WMT</th>\n",
              "      <th>XOM</th>\n",
              "    </tr>\n",
              "  </thead>\n",
              "  <tbody>\n",
              "    <tr>\n",
              "      <th>1914</th>\n",
              "      <td>0.843678</td>\n",
              "      <td>0.164372</td>\n",
              "      <td>5.132734</td>\n",
              "      <td>0.005239</td>\n",
              "      <td>0.13936</td>\n",
              "      <td>0.210345</td>\n",
              "      <td>0.206609</td>\n",
              "      <td>0.112795</td>\n",
              "      <td>0.008684</td>\n",
              "      <td>0.131324</td>\n",
              "      <td>0.012269</td>\n",
              "      <td>0.007295</td>\n",
              "      <td>0.16608</td>\n",
              "    </tr>\n",
              "  </tbody>\n",
              "</table>\n",
              "</div>"
            ],
            "text/plain": [
              "           ret     stdev    sharpe  ...         T       WMT      XOM\n",
              "1914  0.843678  0.164372  5.132734  ...  0.012269  0.007295  0.16608\n",
              "\n",
              "[1 rows x 13 columns]"
            ]
          },
          "metadata": {
            "tags": []
          },
          "execution_count": 133
        }
      ]
    },
    {
      "cell_type": "code",
      "metadata": {
        "colab": {
          "base_uri": "https://localhost:8080/"
        },
        "id": "YFsJKq5fwroM",
        "outputId": "f6395e88-2e10-4212-8624-d28ed9583327"
      },
      "source": [
        "# weights for each company in portfolio\n",
        "print(\"BHP: \", np.round(maxsp_array[0][3],6),\" / DE: \", np.round(maxsp_array[0][4],6), \n",
        "      \" / FE: \", np.round(maxsp_array[0][5],6), \" / GOOG: \", np.round(maxsp_array[0][6],6),'\\n'\n",
        "      \"GS: \", np.round(maxsp_array[0][7],6), \" / JNJ: \", np.round(maxsp_array[0][8],6),\n",
        "      \" / KO: \", np.round(maxsp_array[0][9],6), \" / T: \", np.round(maxsp_array[0][10],6),'\\n'\n",
        "      \"WMT: \", np.round(maxsp_array[0][11],6), \" / XOM: \", np.round(maxsp_array[0][12],6))"
      ],
      "execution_count": 136,
      "outputs": [
        {
          "output_type": "stream",
          "text": [
            "BHP:  0.005239  / DE:  0.13936  / FE:  0.210345  / GOOG:  0.206609 \n",
            "GS:  0.112795  / JNJ:  0.008684  / KO:  0.131324  / T:  0.012269 \n",
            "WMT:  0.007295  / XOM:  0.16608\n"
          ],
          "name": "stdout"
        }
      ]
    },
    {
      "cell_type": "code",
      "metadata": {
        "colab": {
          "base_uri": "https://localhost:8080/"
        },
        "id": "75L2nNEXrmZU",
        "outputId": "dff6c5d9-650b-4083-d359-c3290cf7bc0b"
      },
      "source": [
        "print(\"Expected portfolio return: \", np.round(100*maxsp_array[0][0],2), \"%\")\n",
        "print(\"Expected portfolio volatility: \", np.round(100*np.average(minvp),2), \"%\")\n",
        "print(\"Maximum Sharpe ration of the portfolio: \", np.round(np.max(results[2]),2))"
      ],
      "execution_count": 130,
      "outputs": [
        {
          "output_type": "stream",
          "text": [
            "Expected portfolio return:  84.37 %\n",
            "Expected portfolio volatility:  29.32 %\n",
            "Maximum Sharpe ration of the portfolio:  5.13\n"
          ],
          "name": "stdout"
        }
      ]
    }
  ]
}